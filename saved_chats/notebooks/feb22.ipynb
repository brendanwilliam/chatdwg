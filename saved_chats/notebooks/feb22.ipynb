{
 "cells": [
  {
   "cell_type": "code",
   "execution_count": 15,
   "metadata": {},
   "outputs": [],
   "source": [
    "import pandas as pd\n",
    "import os\n",
    "from bs4 import BeautifulSoup"
   ]
  },
  {
   "cell_type": "code",
   "execution_count": 16,
   "metadata": {},
   "outputs": [],
   "source": [
    "with open('../html/Surveillance in George Orwell\\'s 1984 (2_22_2023 4_44_08 PM).html') as fp:\n",
    "  soup = BeautifulSoup(fp, 'html.parser')"
   ]
  },
  {
   "cell_type": "markdown",
   "metadata": {},
   "source": [
    "### Div containing all messages!\n",
    "This is the dix class containing all messages. Not sure if it can be used when screen sizes change...\n",
    "\n",
    "\n",
    "`<div class=\"markdown prose\">`\n",
    "`<div class=\"min-h-[20px] flex flex-col items-start gap-4 whitespace-pre-wrap\">`"
   ]
  },
  {
   "cell_type": "code",
   "execution_count": 42,
   "metadata": {},
   "outputs": [
    {
     "data": {
      "text/plain": [
       "16"
      ]
     },
     "execution_count": 42,
     "metadata": {},
     "output_type": "execute_result"
    }
   ],
   "source": [
    "# Gets all chatgpt responses as DOM elements\n",
    "chats = soup.find_all('div', class_='min-h-[20px] flex flex-col items-start gap-4 whitespace-pre-wrap')\n",
    "\n",
    "# Gets the text from the chatgpt responses\n",
    "len(chatgpt_res)"
   ]
  },
  {
   "cell_type": "code",
   "execution_count": 44,
   "metadata": {},
   "outputs": [
    {
     "name": "stdout",
     "output_type": "stream",
     "text": [
      "====================\n",
      "Write a body paragraph for an essay that argues that government surveillance is used to control people with textual evidence from George Orwell's 1984\n",
      "\n",
      "\n",
      "\n",
      "====================\n",
      "In George Orwell's dystopian novel 1984, the government uses pervasive surveillance as a tool to control its citizens. The novel depicts a society where the government, led by the omnipresent figure of Big Brother, monitors every aspect of citizens' lives through telescreens, microphones, and hidden cameras. This surveillance system serves as a means of power for the government, allowing them to maintain control over the populace by removing all sense of privacy and personal freedom. The protagonist, Winston Smith, acknowledges this pervasive control, stating, \"Nothing was your own except the few cubic centimetres inside your skull\" (Orwell, 29). The government's control over individual thoughts and actions through surveillance is further emphasized by the Thought Police, who monitor citizens' behavior for any signs of rebellion against the ruling party. The omnipresent gaze of the government ultimately leads to the loss of individuality and the suppression of free thought, as citizens live in constant fear of being monitored and punished for any behavior deemed unacceptable by the ruling party. Overall, Orwell's 1984 presents a stark warning against the dangers of pervasive government surveillance and the potential for it to be used as a tool of control over a society's citizens.\n",
      "\n",
      "\n",
      "\n",
      "====================\n",
      "Write an introduction paragraph for an essay titled \"The Political Economy of the United States\" that argues that supreme court ruling which makes private corporations political donations protected as free speech.\n",
      "\n",
      "\n",
      "\n",
      "====================\n",
      "The United States of America is a democratic country where the principles of free speech and political expression are enshrined in its constitution. However, the political landscape of the country is heavily influenced by the role of money in politics. In 2010, the United States Supreme Court ruling on Citizens United v. Federal Election Commission declared that political donations by private corporations are protected as free speech under the First Amendment. This ruling has significantly impacted the political economy of the country by allowing large corporations to exert their influence through unlimited spending on political campaigns. This essay argues that the Supreme Court ruling in Citizens United has allowed for the further consolidation of power in the hands of the wealthy and corporate elite, leading to the marginalization of the voice of ordinary citizens in the political process. The ramifications of this ruling are particularly concerning given the importance of a fair and democratic electoral system for the functioning of a healthy society.\n",
      "\n",
      "\n",
      "\n",
      "====================\n",
      "Write the abstract of an opinion piece that argues that \"The Scarlett Letter\" is an allegory of cancel culture as seen today.\n",
      "\n",
      "\n",
      "\n",
      "====================\n",
      "Nathaniel Hawthorne's 1850 novel, The Scarlet Letter, tells the story of Hester Prynne, a woman who is ostracized by her community and forced to wear a scarlet letter \"A\" on her clothing as punishment for committing adultery. While the novel is often read as a commentary on the puritanical society of 17th century New England, it can also be viewed as an allegory for the phenomenon of \"cancel culture\" that has become increasingly prevalent in contemporary society. This opinion piece argues that the public shaming and social ostracism experienced by Hester Prynne in The Scarlet Letter mirrors the experiences of individuals who have been \"canceled\" by modern cancel culture. The article explores the similarities between the novel's portrayal of community-wide shaming and the practice of publicly shaming individuals on social media platforms, and argues that the novel is a warning against the dangers of a society that prioritizes conformity and public approval over individual freedom of thought and expression. Ultimately, this piece asserts that The Scarlet Letter serves as a powerful allegory for the dangers of cancel culture and the importance of preserving individual autonomy and diversity of thought in society.\n",
      "\n",
      "\n",
      "\n",
      "====================\n",
      "Write a body paragraph for an essay about Animal Farm using a block quote and two other quotes from the text.\n",
      "\n",
      "\n",
      "\n",
      "====================\n",
      "In George Orwell's Animal Farm, the pigs' gradual ascent to power illustrates the dangers of allowing a small group of individuals to hold unchecked authority. The pigs justify their control over the other animals by claiming that their intelligence makes them more capable of managing the farm. However, their rule quickly becomes authoritarian and oppressive, with the pigs manipulating and exploiting the other animals for their own benefit. In Chapter 5, Squealer, the propaganda chief for the pigs, justifies the pigs' taking of the cow's milk by arguing, \"Milk and apples contain substances absolutely necessary to the well-being of a pig\" (Orwell, 38). This blatant manipulation of the truth is further emphasized by Boxer's reaction when he learns that the milk and apples are being reserved for the pigs: \"If Comrade Napoleon says it, it must be right\" (Orwell, 38). The blind trust that Boxer and other animals place in the pigs illustrates the ease with which those in power can manipulate the narrative to justify their actions. The consolidation of power by the pigs eventually leads to their complete takeover of the farm, with the other animals reduced to nothing more than laborers. As the narrator notes in Chapter 7, \"It had become usual to give Napoleon the credit for every successful achievement and every stroke of good fortune\" (Orwell, 56). The pigs' control over the narrative and the blind trust of the other animals ultimately leads to the complete subjugation of the animals on the farm, highlighting the dangers of unchecked authority and the ease with which those in power can manipulate the narrative to justify their actions.\n",
      "\n",
      "\n",
      "\n",
      "====================\n",
      "Write a body paragraph for an essay that connects the co-determination of technology and society to the surveillance technologies used in 1984.\n",
      "\n",
      "\n",
      "\n",
      "====================\n",
      "In George Orwell's novel 1984, the pervasive use of surveillance technologies serves as a tool for the government to exert its control over society. This use of technology as a means of control highlights the co-determination of technology and society, where technological advancements are shaped and influenced by social and political factors. As Orwell depicts, the use of technology in 1984 serves as a tool for the government to monitor and control citizens' behavior, removing all sense of privacy and individual autonomy. This is further emphasized by the Thought Police, who monitor citizens' behavior for any signs of rebellion against the ruling party. The use of surveillance technologies in the novel can be seen as a warning against the dangers of unbridled technological progress without adequate consideration for the social and political implications of such advancements. As society continues to develop increasingly sophisticated technologies, the relationship between technology and society becomes even more intertwined. The increasing use of surveillance technologies in the modern world highlights the need for a nuanced understanding of the relationship between technology and society, and the importance of ensuring that the development of technology is guided by ethical considerations that prioritize individual rights and freedoms. In this way, the surveillance technologies used in 1984 serve as a cautionary tale about the need for responsible and ethical development and use of technology in society.\n",
      "\n",
      "\n",
      "\n",
      "====================\n",
      "Write 2-3 sentences comparing the surveillance technology used in 1984 to technologies used today to collect personal data.\n",
      "\n",
      "\n",
      "\n",
      "====================\n",
      "The surveillance technology used in 1984 is comparable to the technologies used today to collect personal data in that both seek to monitor and track individuals' behavior, often without their knowledge or consent. For example, in 1984, telescreens and hidden microphones are used to constantly monitor the activities and conversations of citizens, while in modern times, surveillance cameras, facial recognition technology, and internet tracking tools are used to collect vast amounts of personal data from individuals. Both highlight the potential dangers of unchecked surveillance and the need to protect individual privacy and autonomy in the face of rapidly advancing technology.\n",
      "\n",
      "\n",
      "\n",
      "====================\n",
      "Write the introduction of an essay that compares the arts and crafts movement to post modernism, drawing from at least 2 historical events from each movement.\n",
      "\n",
      "\n",
      "\n",
      "====================\n",
      "The Arts and Crafts Movement, which emerged in the late 19th century, and Postmodernism, which emerged in the mid-20th century, are two influential movements in the history of art and design. While these movements are separated by several decades and have different underlying philosophies, they share some important similarities, particularly in their critiques of traditional forms of art and design. This essay will explore these two movements and draw comparisons between them, using historical events and examples to illustrate their similarities and differences. By examining the Arts and Crafts Movement and Postmodernism in depth, we can gain a deeper understanding of the role that art and design play in society and the ways in which these movements have helped to shape our understanding of aesthetics and cultural values.\n",
      "\n",
      "\n",
      "\n",
      "====================\n",
      "Provide three examples of the impact of the cold war on US education policy.\n",
      "\n",
      "\n",
      "\n",
      "====================\n",
      "The Cold War had a significant impact on US education policy, as it prompted a shift in educational priorities and funding. Here are three examples of this impact:The National Defense Education Act (NDEA): In 1958, the US Congress passed the NDEA in response to the perceived threat of the Soviet Union's technological and scientific advancements. The NDEA provided funding for science, math, and foreign language education in American schools, with the aim of increasing the country's scientific and technical capacity. This act had a significant impact on American education, as it shifted the focus of funding and curriculum towards science and technology, which were seen as essential for national security.The Space Race: In the 1960s, the US and the Soviet Union were in a heated competition to dominate space exploration. The launch of the Soviet satellite Sputnik in 1957 was a wake-up call for the US government, and led to increased investment in science and technology education. The government provided funding for science and math programs in schools, with the aim of producing a new generation of scientists and engineers who could help the US win the space race.McCarthyism: The Cold War also had a cultural impact on education policy in the US, as it fueled a wave of anti-communist sentiment that led to political repression and censorship. The rise of McCarthyism in the 1950s led to the blacklisting of many intellectuals, including academics and writers, who were seen as sympathetic to communism. This atmosphere of political repression had a chilling effect on intellectual freedom and critical thinking in American schools, as many teachers and scholars feared reprisals for expressing dissenting views or engaging in open debate.\n",
      "\n",
      "\n",
      "\n"
     ]
    }
   ],
   "source": [
    "for chat in chats:\n",
    "  print(\"====================\")\n",
    "  print(chat.text)\n",
    "  print(\"\\n\\n\")"
   ]
  },
  {
   "cell_type": "code",
   "execution_count": 53,
   "metadata": {},
   "outputs": [],
   "source": [
    "chat_list = pd.DataFrame(columns=['user', 'chat'])\n",
    "\n",
    "for i in range(len(chats)):\n",
    "  chat = chats[i]\n",
    "  user = ''\n",
    "  if i%2 == 0:\n",
    "    user = 'human'\n",
    "  else:\n",
    "    user = 'chatgpt'\n",
    "\n",
    "  chat_list.loc[i] = [user, chat.text]\n",
    "\n",
    "chat_list.to_csv('../csv/chat_list.csv', index=False)"
   ]
  },
  {
   "cell_type": "code",
   "execution_count": 70,
   "metadata": {},
   "outputs": [
    {
     "name": "stdout",
     "output_type": "stream",
     "text": [
      "Surveillance in George Orwell's 1984 (2_22_2023 4_44_08 PM).html\n",
      "2_22_2023 4_44_08 PM\n",
      "16\n",
      "Quiz game initiation. (2_24_2023 3_52_33 PM).html\n",
      "2_24_2023 3_52_33 PM\n",
      "30\n",
      "Painting without magenta. (2_24_2023 3_52_21 PM).html\n",
      "2_24_2023 3_52_21 PM\n",
      "10\n"
     ]
    }
   ],
   "source": [
    "import re\n",
    "\n",
    "def extract_chatlog(filepath):\n",
    "\n",
    "  # Opens and parses the html file\n",
    "  with open(filepath) as fp:\n",
    "    soup = BeautifulSoup(fp, 'html.parser')\n",
    "\n",
    "  # Regex match between parentheses to get the file name\n",
    "  file_name = re.search(r'\\((.+)\\)', filepath).group(1)\n",
    "  print(file_name)\n",
    "\n",
    "  # Gets all chatgpt responses as DOM elements\n",
    "  chats = soup.find_all('div', class_='min-h-[20px] flex flex-col items-start gap-4 whitespace-pre-wrap')\n",
    "\n",
    "  print(len(chats))\n",
    "\n",
    "  # Creates an empty dataframe to store the chatlog\n",
    "  chat_list = pd.DataFrame(columns=['author', 'message', 'datetime'])\n",
    "\n",
    "  # Loops through the chatgpt responses and adds them to the dataframe\n",
    "  for i in range(len(chats)):\n",
    "    chat = chats[i]\n",
    "    user = ''\n",
    "    if i%2 == 0:\n",
    "      user = 'human'\n",
    "    else:\n",
    "      user = 'chatgpt'\n",
    "\n",
    "    chat_list.loc[i] = [user, chat.text, file_name]\n",
    "\n",
    "  # Saves dataframe to csv in the csv folder\n",
    "  chat_list.to_csv('../csv/' + file_name + '.csv', index=False)\n",
    "\n",
    "def extract_all_chatlogs():\n",
    "  # Gets all the html files in the saved_chats folder\n",
    "  html_files = os.listdir('../html')\n",
    "\n",
    "  # Loops through the html files and extracts the chatlog\n",
    "  for html_file in html_files:\n",
    "    print(html_file)\n",
    "    extract_chatlog('../html/' + html_file)\n",
    "\n",
    "extract_all_chatlogs()"
   ]
  },
  {
   "cell_type": "code",
   "execution_count": 74,
   "metadata": {},
   "outputs": [
    {
     "name": "stdout",
     "output_type": "stream",
     "text": [
      "(16, 3)\n",
      "(10, 3)\n",
      "(30, 3)\n"
     ]
    }
   ],
   "source": [
    "def combine_chat_data():\n",
    "  # Gets all the csv files in the csv folder\n",
    "  csv_files = os.listdir('../csv')\n",
    "\n",
    "  # Creates an empty dataframe to store the chatlog\n",
    "  chat_list = pd.DataFrame(columns=['author', 'message', 'datetime'])\n",
    "\n",
    "  # Loops through the csv files and adds them to the dataframe\n",
    "  for csv_file in csv_files:\n",
    "    chat_file = pd.read_csv('../csv/' + csv_file)\n",
    "    print(chat_file.shape)\n",
    "    chat_list = pd.concat([chat_list, chat_file])\n",
    "\n",
    "  # Saves dataframe to csv in the csv folder\n",
    "  chat_list.to_csv('../full_chat_log.csv', index=False)\n",
    "\n",
    "combine_chat_data()"
   ]
  }
 ],
 "metadata": {
  "kernelspec": {
   "display_name": "Python 3.10.4 64-bit",
   "language": "python",
   "name": "python3"
  },
  "language_info": {
   "codemirror_mode": {
    "name": "ipython",
    "version": 3
   },
   "file_extension": ".py",
   "mimetype": "text/x-python",
   "name": "python",
   "nbconvert_exporter": "python",
   "pygments_lexer": "ipython3",
   "version": "3.10.4"
  },
  "orig_nbformat": 4,
  "vscode": {
   "interpreter": {
    "hash": "aee8b7b246df8f9039afb4144a1f6fd8d2ca17a180786b69acc140d282b71a49"
   }
  }
 },
 "nbformat": 4,
 "nbformat_minor": 2
}
